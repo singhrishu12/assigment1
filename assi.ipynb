{
 "cells": [
  {
   "cell_type": "code",
   "execution_count": 1,
   "id": "094dbd9e-5af3-4a59-8f2f-8ad5ed087558",
   "metadata": {},
   "outputs": [],
   "source": [
    "# ASSIGMENT NO- 1"
   ]
  },
  {
   "cell_type": "code",
   "execution_count": null,
   "id": "23e1f91c-27b9-4ab6-bd43-d0c9692ba9cb",
   "metadata": {},
   "outputs": [],
   "source": []
  },
  {
   "cell_type": "code",
   "execution_count": null,
   "id": "d605dba9-39e5-4154-83aa-01c4e4e67f3f",
   "metadata": {},
   "outputs": [],
   "source": [
    "1.Covert a integer to a floatig-point number."
   ]
  },
  {
   "cell_type": "code",
   "execution_count": 2,
   "id": "b26ac518-e831-4a33-b25a-b6a6c3e37a7c",
   "metadata": {},
   "outputs": [
    {
     "data": {
      "text/plain": [
       "int"
      ]
     },
     "execution_count": 2,
     "metadata": {},
     "output_type": "execute_result"
    }
   ],
   "source": [
    "s=101\n",
    "type(s)"
   ]
  },
  {
   "cell_type": "code",
   "execution_count": 3,
   "id": "df36c356-57c5-4574-8bfa-cfc01a721fe1",
   "metadata": {},
   "outputs": [
    {
     "data": {
      "text/plain": [
       "float"
      ]
     },
     "execution_count": 3,
     "metadata": {},
     "output_type": "execute_result"
    }
   ],
   "source": [
    "s=101.0\n",
    "type(s)"
   ]
  },
  {
   "cell_type": "code",
   "execution_count": null,
   "id": "3f10b7aa-440d-41bc-8ab1-b6795290c365",
   "metadata": {},
   "outputs": [],
   "source": [
    "2. Covert a float to a integer."
   ]
  },
  {
   "cell_type": "code",
   "execution_count": 6,
   "id": "4534f50d-066e-4ea9-a10b-8cb1c0f872f8",
   "metadata": {},
   "outputs": [
    {
     "name": "stdout",
     "output_type": "stream",
     "text": [
      "<class 'float'>\n"
     ]
    }
   ],
   "source": [
    "n=5.3\n",
    "print(type(n))"
   ]
  },
  {
   "cell_type": "code",
   "execution_count": 8,
   "id": "96e9e104-f579-4457-9325-e8b0615e2986",
   "metadata": {},
   "outputs": [
    {
     "name": "stdout",
     "output_type": "stream",
     "text": [
      "<class 'int'>\n"
     ]
    }
   ],
   "source": [
    "n=5.3\n",
    "n=int(n)\n",
    "print(type(n))"
   ]
  },
  {
   "cell_type": "code",
   "execution_count": null,
   "id": "997f5b89-00a6-43e5-88a4-715dabae69d1",
   "metadata": {},
   "outputs": [],
   "source": [
    "3.Covert a integer to a string."
   ]
  },
  {
   "cell_type": "code",
   "execution_count": 13,
   "id": "7855b863-bd10-4e0f-978d-9978721f3566",
   "metadata": {},
   "outputs": [
    {
     "data": {
      "text/plain": [
       "int"
      ]
     },
     "execution_count": 13,
     "metadata": {},
     "output_type": "execute_result"
    }
   ],
   "source": [
    "a=2\n",
    "type(a)"
   ]
  },
  {
   "cell_type": "code",
   "execution_count": 14,
   "id": "a4dcb0fc-3279-44fe-bdce-bf1c47c97a4b",
   "metadata": {},
   "outputs": [
    {
     "data": {
      "text/plain": [
       "str"
      ]
     },
     "execution_count": 14,
     "metadata": {},
     "output_type": "execute_result"
    }
   ],
   "source": [
    "a=\"2\"\n",
    "type(a)"
   ]
  },
  {
   "cell_type": "code",
   "execution_count": null,
   "id": "c43fa33f-7e89-4357-9361-01bae2eb1f0a",
   "metadata": {},
   "outputs": [],
   "source": [
    "4.Covert a list to a tuple."
   ]
  },
  {
   "cell_type": "code",
   "execution_count": 20,
   "id": "1b3049e3-fb38-4275-9004-793fc7cd6f0e",
   "metadata": {},
   "outputs": [
    {
     "data": {
      "text/plain": [
       "list"
      ]
     },
     "execution_count": 20,
     "metadata": {},
     "output_type": "execute_result"
    }
   ],
   "source": [
    "a=[\"1,2\",\"reshabh\",\"rishu\"]\n",
    "type(a)"
   ]
  },
  {
   "cell_type": "code",
   "execution_count": 22,
   "id": "b3e9ac4d-b8bc-4e60-8c1a-1d3964135b1a",
   "metadata": {},
   "outputs": [
    {
     "data": {
      "text/plain": [
       "tuple"
      ]
     },
     "execution_count": 22,
     "metadata": {},
     "output_type": "execute_result"
    }
   ],
   "source": [
    "a=(\"1,2\",\"reshabh\",\"rishu\")\n",
    "type(a)"
   ]
  },
  {
   "cell_type": "code",
   "execution_count": null,
   "id": "9dc24184-5ef9-4d10-918c-47dd894cf592",
   "metadata": {},
   "outputs": [],
   "source": [
    "5.Covert a tuple to a list."
   ]
  },
  {
   "cell_type": "code",
   "execution_count": 23,
   "id": "f49751cf-007e-4dcc-840a-8e5d09410e74",
   "metadata": {},
   "outputs": [
    {
     "data": {
      "text/plain": [
       "tuple"
      ]
     },
     "execution_count": 23,
     "metadata": {},
     "output_type": "execute_result"
    }
   ],
   "source": [
    "a=(\"2,3\",\"rahul\",\"raj\")\n",
    "type(a)"
   ]
  },
  {
   "cell_type": "code",
   "execution_count": 24,
   "id": "3efcb2fd-9637-4b28-b71b-7405315d7506",
   "metadata": {},
   "outputs": [
    {
     "data": {
      "text/plain": [
       "list"
      ]
     },
     "execution_count": 24,
     "metadata": {},
     "output_type": "execute_result"
    }
   ],
   "source": [
    "a=[\"2,3\",\"rahul\",\"raj\"]\n",
    "type(a)"
   ]
  },
  {
   "cell_type": "code",
   "execution_count": null,
   "id": "af755d77-27d1-425d-b40c-3d55202453a1",
   "metadata": {},
   "outputs": [],
   "source": [
    "6.Covert a decimal umber to binary."
   ]
  },
  {
   "cell_type": "code",
   "execution_count": 26,
   "id": "b0dae279-75b9-4bcc-877f-01bdeedd2de6",
   "metadata": {},
   "outputs": [
    {
     "data": {
      "text/plain": [
       "'0b101'"
      ]
     },
     "execution_count": 26,
     "metadata": {},
     "output_type": "execute_result"
    }
   ],
   "source": [
    "bin(5)"
   ]
  },
  {
   "cell_type": "code",
   "execution_count": null,
   "id": "45df384d-435b-4e81-bc55-6fb54806dd01",
   "metadata": {},
   "outputs": [],
   "source": [
    "7.Covert a non-zero number to boolean."
   ]
  },
  {
   "cell_type": "code",
   "execution_count": 28,
   "id": "6736ef7e-60cb-486e-ab52-184a3a9e10f2",
   "metadata": {},
   "outputs": [
    {
     "data": {
      "text/plain": [
       "True"
      ]
     },
     "execution_count": 28,
     "metadata": {},
     "output_type": "execute_result"
    }
   ],
   "source": [
    "bool(1)"
   ]
  },
  {
   "cell_type": "code",
   "execution_count": null,
   "id": "5d75aec8-b30c-4b7b-b9b5-fc42d32af2ce",
   "metadata": {},
   "outputs": [],
   "source": []
  }
 ],
 "metadata": {
  "kernelspec": {
   "display_name": "Python 3 (ipykernel)",
   "language": "python",
   "name": "python3"
  },
  "language_info": {
   "codemirror_mode": {
    "name": "ipython",
    "version": 3
   },
   "file_extension": ".py",
   "mimetype": "text/x-python",
   "name": "python",
   "nbconvert_exporter": "python",
   "pygments_lexer": "ipython3",
   "version": "3.10.8"
  }
 },
 "nbformat": 4,
 "nbformat_minor": 5
}
